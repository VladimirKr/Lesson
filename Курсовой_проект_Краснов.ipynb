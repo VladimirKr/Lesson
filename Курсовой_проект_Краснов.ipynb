{
  "nbformat": 4,
  "nbformat_minor": 0,
  "metadata": {
    "colab": {
      "name": "Курсовой проект Краснов.ipynb",
      "provenance": [],
      "collapsed_sections": [
        "N8j62dBIH8Nb",
        "ymg4ezufK26D",
        "WZHicQYEWlac"
      ],
      "authorship_tag": "ABX9TyN3qDbmvTNNlfS2NpRLE78X"
    },
    "kernelspec": {
      "name": "python3",
      "display_name": "Python 3"
    },
    "language_info": {
      "name": "python"
    }
  },
  "cells": [
    {
      "cell_type": "markdown",
      "source": [
        "# Задание на курсовой проект"
      ],
      "metadata": {
        "id": "oXsJSTabAr-a"
      }
    },
    {
      "cell_type": "markdown",
      "source": [
        "Натренировать модель по данным из файла data/train.csv, и предсказать цену квартир, на данных из файла /data/test.csv. Рзультат предсказания сохранить в файл вида SShirkin_predictions.csv, который бы содержал поля: Id, Price и имел 5001 строку (шапка + 5000 квартир). Качество модели оценивается по rmse."
      ],
      "metadata": {
        "id": "5ASdvfWNBO-4"
      }
    },
    {
      "cell_type": "markdown",
      "source": [
        "## Подключение библиотек и скриптов"
      ],
      "metadata": {
        "id": "N8j62dBIH8Nb"
      }
    },
    {
      "cell_type": "code",
      "source": [
        "import numpy as np\n",
        "import pandas as pd\n",
        "import random\n",
        "from datetime import datetime\n",
        "\n",
        "from sklearn.model_selection import train_test_split, cross_val_score\n",
        "from sklearn.preprocessing import StandardScaler\n",
        "from sklearn.ensemble import RandomForestRegressor\n",
        "from sklearn.metrics import r2_score as r2\n",
        "from sklearn.metrics import mean_squared_error as mse \n",
        "from sklearn.model_selection import KFold, GridSearchCV\n",
        "\n",
        "\n",
        "import matplotlib\n",
        "import matplotlib.pyplot as plt\n",
        "import seaborn as sns\n",
        "%matplotlib inline"
      ],
      "metadata": {
        "id": "Ak-H0DBNH-ka"
      },
      "execution_count": 38,
      "outputs": []
    },
    {
      "cell_type": "code",
      "source": [
        "import warnings\n",
        "warnings.filterwarnings('ignore')"
      ],
      "metadata": {
        "id": "cdYgs6-XIC5E"
      },
      "execution_count": 39,
      "outputs": []
    },
    {
      "cell_type": "code",
      "source": [
        "matplotlib.rcParams.update({'font.size': 14})"
      ],
      "metadata": {
        "id": "eNsFyno3IFcs"
      },
      "execution_count": 40,
      "outputs": []
    },
    {
      "cell_type": "code",
      "source": [
        "def evaluate_preds(train_true_values, train_pred_values, test_true_values, test_pred_values):\n",
        "    print(\"Train R2:\\t\" + str(round(r2(train_true_values, train_pred_values), 3)))\n",
        "    print(\"Test R2:\\t\" + str(round(r2(test_true_values, test_pred_values), 3)))\n",
        "    print(\"Train RMSE:\\t\" + str(round(np.sqrt(mse(train_true_values, train_pred_values)), 3)))\n",
        "    print(\"Test RMSE:\\t\" + str(round(np.sqrt(mse(test_true_values, test_pred_values)), 3)))\n",
        "    \n",
        "    \n",
        "    plt.figure(figsize=(18,10))\n",
        "    \n",
        "    plt.subplot(121)\n",
        "    sns.scatterplot(x=train_pred_values, y=train_true_values)\n",
        "    plt.xlabel('Predicted values')\n",
        "    plt.ylabel('True values')\n",
        "    plt.title('Train sample prediction')\n",
        "    \n",
        "    plt.subplot(122)\n",
        "    sns.scatterplot(x=test_pred_values, y=test_true_values)\n",
        "    plt.xlabel('Predicted values')\n",
        "    plt.ylabel('True values')\n",
        "    plt.title('Test sample prediction')\n",
        "\n",
        "    plt.show()"
      ],
      "metadata": {
        "id": "vNGdcN1nIIQ2"
      },
      "execution_count": 41,
      "outputs": []
    },
    {
      "cell_type": "markdown",
      "source": [
        "Добавим функцию оптимизации памяти"
      ],
      "metadata": {
        "id": "_6yPQr5VIQcb"
      }
    },
    {
      "cell_type": "code",
      "source": [
        "def reduce_mem_usage(df):\n",
        "    \"\"\" iterate through all the columns of a dataframe and modify the data type\n",
        "        to reduce memory usage.        \n",
        "    \"\"\"\n",
        "    start_mem = df.memory_usage().sum() / 1024**2\n",
        "    print('Memory usage of dataframe is {:.2f} MB'.format(start_mem))\n",
        "    \n",
        "    for col in df.columns:\n",
        "        col_type = df[col].dtype\n",
        "        \n",
        "        if col_type != object:\n",
        "            c_min = df[col].min()\n",
        "            c_max = df[col].max()\n",
        "            if str(col_type)[:3] == 'int':\n",
        "                if c_min > np.iinfo(np.int8).min and c_max < np.iinfo(np.int8).max:\n",
        "                    df[col] = df[col].astype(np.int8)\n",
        "                elif c_min > np.iinfo(np.int16).min and c_max < np.iinfo(np.int16).max:\n",
        "                    df[col] = df[col].astype(np.int16)\n",
        "                elif c_min > np.iinfo(np.int32).min and c_max < np.iinfo(np.int32).max:\n",
        "                    df[col] = df[col].astype(np.int32)\n",
        "                elif c_min > np.iinfo(np.int64).min and c_max < np.iinfo(np.int64).max:\n",
        "                    df[col] = df[col].astype(np.int64)  \n",
        "            else:\n",
        "                if c_min > np.finfo(np.float32).min and c_max < np.finfo(np.float32).max:\n",
        "                    df[col] = df[col].astype(np.float32)\n",
        "                else:\n",
        "                    df[col] = df[col].astype(np.float64)\n",
        "        else:\n",
        "            df[col] = df[col].astype('category')\n",
        "\n",
        "    end_mem = df.memory_usage().sum() / 1024**2\n",
        "    print('Memory usage after optimization is: {:.2f} MB'.format(end_mem))\n",
        "    print('Decreased by {:.1f}%'.format(100 * (start_mem - end_mem) / start_mem))\n",
        "    \n",
        "    return df"
      ],
      "metadata": {
        "id": "n36t-I1gIXvC"
      },
      "execution_count": 42,
      "outputs": []
    },
    {
      "cell_type": "markdown",
      "source": [
        "обработчик пропусков и выбросов"
      ],
      "metadata": {
        "id": "uFyz1MGvmfdP"
      }
    },
    {
      "cell_type": "code",
      "source": [
        "class Data:\n",
        "    \n",
        "    def __init__(self):\n",
        "        \"\"\"Задаем некоторые константы\"\"\"\n",
        "        self.Square_min = 35\n",
        "        self.Square_max = 380\n",
        "        \n",
        "        self.LifeSquare_min = 20\n",
        "        self.LifeSquare_max = 320\n",
        "        \n",
        "        self.Rooms_min = 1\n",
        "        self.Rooms_max = 19\n",
        "        \n",
        "        self.HouseFloor_min = 1\n",
        "        self.HouseFloor_max = 35\n",
        "\n",
        "        \n",
        "        self.KitchenSquare_min = 3\n",
        "        self.KitchenSquare_max = 30\n",
        "        \n",
        "        self.current_year = datetime.now().year\n",
        "        \n",
        "        self.medians = None\n",
        "        self.DistrictId_value_counts = None\n",
        "        self.SquareMeterPrice_by_DistrictId = None\n",
        "        self.Healthcare_1_by_DistrictId = None\n",
        "        \n",
        "        \n",
        "    def fit(self, train_df):\n",
        "        \n",
        "        # медианы\n",
        "        self.medians = train_df[['LifeSquare', 'HouseFloor']].median()\n",
        "        \n",
        "        # подсчет популярных районов\n",
        "        self.DistrictId_value_counts = dict(train_df['DistrictId'].value_counts())\n",
        "        \n",
        "        # подсчет средней цены за м2 по району\n",
        "        train_df_temp = train_df.loc[((train_df['Square'] > self.Square_min) & (train_df['Square'] < self.Square_max))]\n",
        "        train_df_temp[\"SquareMeterPrice\"] = train_df_temp[\"Price\"] / train_df_temp[\"Square\"]\n",
        "        self.SquareMeterPrice_by_DistrictId = train_df_temp.groupby('DistrictId', as_index=False)\\\n",
        "            .agg({'SquareMeterPrice': 'mean'})\\\n",
        "            .rename(columns={'SquareMeterPrice': 'AverageSquareMeterPrice'})\n",
        "        \n",
        "        # подсчет среднего значения признака Healthcare_1 по району\n",
        "        self.Healthcare_1_by_DistrictId = train_df.groupby('DistrictId', as_index=False)\\\n",
        "            .agg({'Healthcare_1': 'mean'})\\\n",
        "            .rename(columns={'Healthcare_1': 'AverageHealthcare_1'})\n",
        "        \n",
        "        del train_df_temp\n",
        "        \n",
        "    def transform(self, train_df):\n",
        "        \n",
        "        # Обработка пропусков\n",
        "        train_df[['LifeSquare', 'HouseFloor']] = train_df[['LifeSquare', 'HouseFloor']].fillna(self.medians)\n",
        "        \n",
        "        # Обработка выбросов\n",
        "        \n",
        "        # площадь\n",
        "        train_df.loc[(train_df['Square'] > self.Square_max), 'Square'] = self.Square_max\n",
        "        train_df.loc[(train_df['Square'] < self.Square_min), 'Square'] = self.Square_min\n",
        "        \n",
        "        # жилая площадь\n",
        "        train_df.loc[(train_df['LifeSquare'] < self.LifeSquare_min), 'LifeSquare'] = self.LifeSquare_min\n",
        "        train_df.loc[(train_df['LifeSquare'] > self.LifeSquare_max), 'LifeSquare'] = self.LifeSquare_max\n",
        "        \n",
        "        # площадь кухни\n",
        "        train_df.loc[(train_df['KitchenSquare'] < self.KitchenSquare_min), 'KitchenSquare'] = self.KitchenSquare_min\n",
        "        train_df.loc[(train_df['KitchenSquare'] > self.KitchenSquare_max), 'KitchenSquare'] = self.KitchenSquare_max\n",
        "        \n",
        "        # год постройки дома\n",
        "        train_df.loc[(train_df['HouseYear'] > self.current_year), 'HouseYear'] = self.current_year\n",
        "        \n",
        "        # количество комнат\n",
        "        train_df.loc[(train_df['Rooms'] > self.Rooms_max), 'Rooms'] = self.Rooms_max\n",
        "        train_df.loc[(train_df['Rooms'] < self.Rooms_min), 'Rooms'] = self.Rooms_min\n",
        "        \n",
        "        # количество этажей\n",
        "        train_df.loc[(train_df['HouseFloor'] < self.HouseFloor_min), 'HouseFloor'] = self.HouseFloor_min\n",
        "        train_df.loc[(train_df['HouseFloor'] > self.HouseFloor_max), 'HouseFloor'] = self.HouseFloor_max\n",
        "        \n",
        "        # если этаж больше этажности дома, то присваиваем максимальный этаж\n",
        "        floor_more = train_df.loc[train_df['Floor'] > train_df['HouseFloor']].index\n",
        "        train_df.loc[floor_more, 'Floor'] = train_df.loc[floor_more, 'HouseFloor']\n",
        "\n",
        "        # если этаж меньше этажности дома, то присваиваем минимальный этаж\n",
        "        floor_less = train_df.loc[train_df['Floor'] > train_df['HouseFloor']].index\n",
        "        train_df.loc[floor_less, 'Floor'] = train_df.loc[floor_less, 'HouseFloor']\n",
        "\n",
        "\n",
        "        # Обработка категорий\n",
        "        train_df = pd.concat([train_df, pd.get_dummies(train_df['Ecology_2'], prefix='Ecology_2', dtype='int8')], axis=1)\n",
        "        train_df = pd.concat([train_df, pd.get_dummies(train_df['Ecology_3'], prefix='Ecology_3', dtype='int8')], axis=1)\n",
        "        train_df = pd.concat([train_df, pd.get_dummies(train_df['Shops_2'], prefix='Shops_2', dtype='int8')], axis=1)\n",
        "        \n",
        "        return train_df\n",
        "    \n",
        "    def features(self, train_df):\n",
        "        \n",
        "        # добавление признака популярности района\n",
        "        train_df['DistrictId_counts'] = train_df['DistrictId'].map(self.DistrictId_value_counts)\n",
        "        train_df['DistrictId_counts'].fillna(train_df['DistrictId_counts'].median(), inplace=True)\n",
        "        \n",
        "        # добавление признака средней стоимости м2 по району\n",
        "        train_df = train_df.merge(self.SquareMeterPrice_by_DistrictId, on=[\"DistrictId\"], how='left')\n",
        "        train_df['AverageSquareMeterPrice'].fillna(train_df['AverageSquareMeterPrice'].median(), inplace=True)\n",
        "        \n",
        "        # добавление признака среднего значения Healthcare_1 по району\n",
        "        train_df = train_df.merge(self.Healthcare_1_by_DistrictId, on=[\"DistrictId\"], how='left')\n",
        "        train_df['AverageHealthcare_1'].fillna(train_df['AverageHealthcare_1'].median(), inplace=True)\n",
        "        \n",
        "        return train_df"
      ],
      "metadata": {
        "id": "DxAATczCijva"
      },
      "execution_count": 43,
      "outputs": []
    },
    {
      "cell_type": "markdown",
      "source": [
        "## Подготовка данных"
      ],
      "metadata": {
        "id": "adqsxHDjN8JT"
      }
    },
    {
      "cell_type": "markdown",
      "source": [
        "### загружаем данные"
      ],
      "metadata": {
        "id": "A9IWT1c3OqXg"
      }
    },
    {
      "cell_type": "code",
      "source": [
        "TRAIN_DATASET_PATH = 'data/train.csv'\n",
        "TEST_DATASET_PATH = 'data/test.csv'"
      ],
      "metadata": {
        "id": "Tf2-7vW2OBri"
      },
      "execution_count": 44,
      "outputs": []
    },
    {
      "cell_type": "code",
      "source": [
        "train_df = pd.read_csv(TRAIN_DATASET_PATH)\n",
        "train_df.tail()"
      ],
      "metadata": {
        "colab": {
          "base_uri": "https://localhost:8080/",
          "height": 270
        },
        "id": "klotF3HRLDH7",
        "outputId": "1457dbc4-7ccf-40a5-d611-4375ea43392a"
      },
      "execution_count": 45,
      "outputs": [
        {
          "output_type": "execute_result",
          "data": {
            "text/plain": [
              "         Id  DistrictId  Rooms     Square  LifeSquare  KitchenSquare  Floor  \\\n",
              "9995   1260          61    2.0  49.090728   33.272626            6.0      3   \n",
              "9996  16265          27    2.0  64.307684   37.038420            9.0     13   \n",
              "9997   2795         178    1.0  29.648057   16.555363            5.0      3   \n",
              "9998  14561          21    1.0  32.330292   22.326870            5.0      3   \n",
              "9999   7202          94    1.0  35.815476   22.301367            6.0      9   \n",
              "\n",
              "      HouseFloor  HouseYear  Ecology_1 Ecology_2 Ecology_3  Social_1  \\\n",
              "9995        12.0       1981   0.300323         B         B        52   \n",
              "9996         0.0       1977   0.072158         B         B         2   \n",
              "9997         5.0       1958   0.460556         B         B        20   \n",
              "9998         9.0       1969   0.194489         B         B        47   \n",
              "9999         9.0       1975   0.127376         B         B        43   \n",
              "\n",
              "      Social_2  Social_3  Healthcare_1  Helthcare_2  Shops_1 Shops_2  \\\n",
              "9995     10311         6           NaN            1        9       B   \n",
              "9996       629         1           NaN            0        0       A   \n",
              "9997      4386        14           NaN            1        5       B   \n",
              "9998      8004         3         125.0            3        5       B   \n",
              "9999      8429         3           NaN            3        9       B   \n",
              "\n",
              "              Price  \n",
              "9995  119367.455796  \n",
              "9996  199715.148807  \n",
              "9997  165953.912580  \n",
              "9998  171842.411855  \n",
              "9999  177685.627486  "
            ],
            "text/html": [
              "\n",
              "  <div id=\"df-8c1c6eea-a2f7-438a-8484-914a389060fc\">\n",
              "    <div class=\"colab-df-container\">\n",
              "      <div>\n",
              "<style scoped>\n",
              "    .dataframe tbody tr th:only-of-type {\n",
              "        vertical-align: middle;\n",
              "    }\n",
              "\n",
              "    .dataframe tbody tr th {\n",
              "        vertical-align: top;\n",
              "    }\n",
              "\n",
              "    .dataframe thead th {\n",
              "        text-align: right;\n",
              "    }\n",
              "</style>\n",
              "<table border=\"1\" class=\"dataframe\">\n",
              "  <thead>\n",
              "    <tr style=\"text-align: right;\">\n",
              "      <th></th>\n",
              "      <th>Id</th>\n",
              "      <th>DistrictId</th>\n",
              "      <th>Rooms</th>\n",
              "      <th>Square</th>\n",
              "      <th>LifeSquare</th>\n",
              "      <th>KitchenSquare</th>\n",
              "      <th>Floor</th>\n",
              "      <th>HouseFloor</th>\n",
              "      <th>HouseYear</th>\n",
              "      <th>Ecology_1</th>\n",
              "      <th>Ecology_2</th>\n",
              "      <th>Ecology_3</th>\n",
              "      <th>Social_1</th>\n",
              "      <th>Social_2</th>\n",
              "      <th>Social_3</th>\n",
              "      <th>Healthcare_1</th>\n",
              "      <th>Helthcare_2</th>\n",
              "      <th>Shops_1</th>\n",
              "      <th>Shops_2</th>\n",
              "      <th>Price</th>\n",
              "    </tr>\n",
              "  </thead>\n",
              "  <tbody>\n",
              "    <tr>\n",
              "      <th>9995</th>\n",
              "      <td>1260</td>\n",
              "      <td>61</td>\n",
              "      <td>2.0</td>\n",
              "      <td>49.090728</td>\n",
              "      <td>33.272626</td>\n",
              "      <td>6.0</td>\n",
              "      <td>3</td>\n",
              "      <td>12.0</td>\n",
              "      <td>1981</td>\n",
              "      <td>0.300323</td>\n",
              "      <td>B</td>\n",
              "      <td>B</td>\n",
              "      <td>52</td>\n",
              "      <td>10311</td>\n",
              "      <td>6</td>\n",
              "      <td>NaN</td>\n",
              "      <td>1</td>\n",
              "      <td>9</td>\n",
              "      <td>B</td>\n",
              "      <td>119367.455796</td>\n",
              "    </tr>\n",
              "    <tr>\n",
              "      <th>9996</th>\n",
              "      <td>16265</td>\n",
              "      <td>27</td>\n",
              "      <td>2.0</td>\n",
              "      <td>64.307684</td>\n",
              "      <td>37.038420</td>\n",
              "      <td>9.0</td>\n",
              "      <td>13</td>\n",
              "      <td>0.0</td>\n",
              "      <td>1977</td>\n",
              "      <td>0.072158</td>\n",
              "      <td>B</td>\n",
              "      <td>B</td>\n",
              "      <td>2</td>\n",
              "      <td>629</td>\n",
              "      <td>1</td>\n",
              "      <td>NaN</td>\n",
              "      <td>0</td>\n",
              "      <td>0</td>\n",
              "      <td>A</td>\n",
              "      <td>199715.148807</td>\n",
              "    </tr>\n",
              "    <tr>\n",
              "      <th>9997</th>\n",
              "      <td>2795</td>\n",
              "      <td>178</td>\n",
              "      <td>1.0</td>\n",
              "      <td>29.648057</td>\n",
              "      <td>16.555363</td>\n",
              "      <td>5.0</td>\n",
              "      <td>3</td>\n",
              "      <td>5.0</td>\n",
              "      <td>1958</td>\n",
              "      <td>0.460556</td>\n",
              "      <td>B</td>\n",
              "      <td>B</td>\n",
              "      <td>20</td>\n",
              "      <td>4386</td>\n",
              "      <td>14</td>\n",
              "      <td>NaN</td>\n",
              "      <td>1</td>\n",
              "      <td>5</td>\n",
              "      <td>B</td>\n",
              "      <td>165953.912580</td>\n",
              "    </tr>\n",
              "    <tr>\n",
              "      <th>9998</th>\n",
              "      <td>14561</td>\n",
              "      <td>21</td>\n",
              "      <td>1.0</td>\n",
              "      <td>32.330292</td>\n",
              "      <td>22.326870</td>\n",
              "      <td>5.0</td>\n",
              "      <td>3</td>\n",
              "      <td>9.0</td>\n",
              "      <td>1969</td>\n",
              "      <td>0.194489</td>\n",
              "      <td>B</td>\n",
              "      <td>B</td>\n",
              "      <td>47</td>\n",
              "      <td>8004</td>\n",
              "      <td>3</td>\n",
              "      <td>125.0</td>\n",
              "      <td>3</td>\n",
              "      <td>5</td>\n",
              "      <td>B</td>\n",
              "      <td>171842.411855</td>\n",
              "    </tr>\n",
              "    <tr>\n",
              "      <th>9999</th>\n",
              "      <td>7202</td>\n",
              "      <td>94</td>\n",
              "      <td>1.0</td>\n",
              "      <td>35.815476</td>\n",
              "      <td>22.301367</td>\n",
              "      <td>6.0</td>\n",
              "      <td>9</td>\n",
              "      <td>9.0</td>\n",
              "      <td>1975</td>\n",
              "      <td>0.127376</td>\n",
              "      <td>B</td>\n",
              "      <td>B</td>\n",
              "      <td>43</td>\n",
              "      <td>8429</td>\n",
              "      <td>3</td>\n",
              "      <td>NaN</td>\n",
              "      <td>3</td>\n",
              "      <td>9</td>\n",
              "      <td>B</td>\n",
              "      <td>177685.627486</td>\n",
              "    </tr>\n",
              "  </tbody>\n",
              "</table>\n",
              "</div>\n",
              "      <button class=\"colab-df-convert\" onclick=\"convertToInteractive('df-8c1c6eea-a2f7-438a-8484-914a389060fc')\"\n",
              "              title=\"Convert this dataframe to an interactive table.\"\n",
              "              style=\"display:none;\">\n",
              "        \n",
              "  <svg xmlns=\"http://www.w3.org/2000/svg\" height=\"24px\"viewBox=\"0 0 24 24\"\n",
              "       width=\"24px\">\n",
              "    <path d=\"M0 0h24v24H0V0z\" fill=\"none\"/>\n",
              "    <path d=\"M18.56 5.44l.94 2.06.94-2.06 2.06-.94-2.06-.94-.94-2.06-.94 2.06-2.06.94zm-11 1L8.5 8.5l.94-2.06 2.06-.94-2.06-.94L8.5 2.5l-.94 2.06-2.06.94zm10 10l.94 2.06.94-2.06 2.06-.94-2.06-.94-.94-2.06-.94 2.06-2.06.94z\"/><path d=\"M17.41 7.96l-1.37-1.37c-.4-.4-.92-.59-1.43-.59-.52 0-1.04.2-1.43.59L10.3 9.45l-7.72 7.72c-.78.78-.78 2.05 0 2.83L4 21.41c.39.39.9.59 1.41.59.51 0 1.02-.2 1.41-.59l7.78-7.78 2.81-2.81c.8-.78.8-2.07 0-2.86zM5.41 20L4 18.59l7.72-7.72 1.47 1.35L5.41 20z\"/>\n",
              "  </svg>\n",
              "      </button>\n",
              "      \n",
              "  <style>\n",
              "    .colab-df-container {\n",
              "      display:flex;\n",
              "      flex-wrap:wrap;\n",
              "      gap: 12px;\n",
              "    }\n",
              "\n",
              "    .colab-df-convert {\n",
              "      background-color: #E8F0FE;\n",
              "      border: none;\n",
              "      border-radius: 50%;\n",
              "      cursor: pointer;\n",
              "      display: none;\n",
              "      fill: #1967D2;\n",
              "      height: 32px;\n",
              "      padding: 0 0 0 0;\n",
              "      width: 32px;\n",
              "    }\n",
              "\n",
              "    .colab-df-convert:hover {\n",
              "      background-color: #E2EBFA;\n",
              "      box-shadow: 0px 1px 2px rgba(60, 64, 67, 0.3), 0px 1px 3px 1px rgba(60, 64, 67, 0.15);\n",
              "      fill: #174EA6;\n",
              "    }\n",
              "\n",
              "    [theme=dark] .colab-df-convert {\n",
              "      background-color: #3B4455;\n",
              "      fill: #D2E3FC;\n",
              "    }\n",
              "\n",
              "    [theme=dark] .colab-df-convert:hover {\n",
              "      background-color: #434B5C;\n",
              "      box-shadow: 0px 1px 3px 1px rgba(0, 0, 0, 0.15);\n",
              "      filter: drop-shadow(0px 1px 2px rgba(0, 0, 0, 0.3));\n",
              "      fill: #FFFFFF;\n",
              "    }\n",
              "  </style>\n",
              "\n",
              "      <script>\n",
              "        const buttonEl =\n",
              "          document.querySelector('#df-8c1c6eea-a2f7-438a-8484-914a389060fc button.colab-df-convert');\n",
              "        buttonEl.style.display =\n",
              "          google.colab.kernel.accessAllowed ? 'block' : 'none';\n",
              "\n",
              "        async function convertToInteractive(key) {\n",
              "          const element = document.querySelector('#df-8c1c6eea-a2f7-438a-8484-914a389060fc');\n",
              "          const dataTable =\n",
              "            await google.colab.kernel.invokeFunction('convertToInteractive',\n",
              "                                                     [key], {});\n",
              "          if (!dataTable) return;\n",
              "\n",
              "          const docLinkHtml = 'Like what you see? Visit the ' +\n",
              "            '<a target=\"_blank\" href=https://colab.research.google.com/notebooks/data_table.ipynb>data table notebook</a>'\n",
              "            + ' to learn more about interactive tables.';\n",
              "          element.innerHTML = '';\n",
              "          dataTable['output_type'] = 'display_data';\n",
              "          await google.colab.output.renderOutput(dataTable, element);\n",
              "          const docLink = document.createElement('div');\n",
              "          docLink.innerHTML = docLinkHtml;\n",
              "          element.appendChild(docLink);\n",
              "        }\n",
              "      </script>\n",
              "    </div>\n",
              "  </div>\n",
              "  "
            ]
          },
          "metadata": {},
          "execution_count": 45
        }
      ]
    },
    {
      "cell_type": "code",
      "source": [
        "test_df = pd.read_csv(TEST_DATASET_PATH)\n",
        "test_df.tail()"
      ],
      "metadata": {
        "colab": {
          "base_uri": "https://localhost:8080/",
          "height": 270
        },
        "id": "LlvfspnHLG5Y",
        "outputId": "92553a3d-cb02-4eba-c273-0cbcf87d69de"
      },
      "execution_count": 46,
      "outputs": [
        {
          "output_type": "execute_result",
          "data": {
            "text/plain": [
              "         Id  DistrictId  Rooms     Square  LifeSquare  KitchenSquare  Floor  \\\n",
              "4995  10379          29    2.0  43.177521   30.339945            5.0      6   \n",
              "4996  16138          38    3.0  93.698122   94.521465           10.0     21   \n",
              "4997   3912         101    1.0  33.656723   19.003259            5.0      2   \n",
              "4998   5722          10    1.0  38.635155   20.976257            9.0      8   \n",
              "4999  11004          21    2.0  67.122742   33.944344           13.0      9   \n",
              "\n",
              "      HouseFloor  HouseYear  Ecology_1 Ecology_2 Ecology_3  Social_1  \\\n",
              "4995         5.0       1962   0.069660         B         B        31   \n",
              "4996        27.0       2018   0.060753         B         B        15   \n",
              "4997         5.0       1966   0.038693         B         B        28   \n",
              "4998        14.0       1970   0.089040         B         B        33   \n",
              "4999        17.0       2009   0.194489         B         B        47   \n",
              "\n",
              "      Social_2  Social_3  Healthcare_1  Helthcare_2  Shops_1 Shops_2  \n",
              "4995      6119         4           NaN            1        2       B  \n",
              "4996      2787         2         520.0            0        7       B  \n",
              "4997      6533         1        1015.0            2        5       B  \n",
              "4998      7976         5           NaN            0       11       B  \n",
              "4999      8004         3         125.0            3        5       B  "
            ],
            "text/html": [
              "\n",
              "  <div id=\"df-f7998c2a-0f1a-4ff1-8f1e-581199a55f29\">\n",
              "    <div class=\"colab-df-container\">\n",
              "      <div>\n",
              "<style scoped>\n",
              "    .dataframe tbody tr th:only-of-type {\n",
              "        vertical-align: middle;\n",
              "    }\n",
              "\n",
              "    .dataframe tbody tr th {\n",
              "        vertical-align: top;\n",
              "    }\n",
              "\n",
              "    .dataframe thead th {\n",
              "        text-align: right;\n",
              "    }\n",
              "</style>\n",
              "<table border=\"1\" class=\"dataframe\">\n",
              "  <thead>\n",
              "    <tr style=\"text-align: right;\">\n",
              "      <th></th>\n",
              "      <th>Id</th>\n",
              "      <th>DistrictId</th>\n",
              "      <th>Rooms</th>\n",
              "      <th>Square</th>\n",
              "      <th>LifeSquare</th>\n",
              "      <th>KitchenSquare</th>\n",
              "      <th>Floor</th>\n",
              "      <th>HouseFloor</th>\n",
              "      <th>HouseYear</th>\n",
              "      <th>Ecology_1</th>\n",
              "      <th>Ecology_2</th>\n",
              "      <th>Ecology_3</th>\n",
              "      <th>Social_1</th>\n",
              "      <th>Social_2</th>\n",
              "      <th>Social_3</th>\n",
              "      <th>Healthcare_1</th>\n",
              "      <th>Helthcare_2</th>\n",
              "      <th>Shops_1</th>\n",
              "      <th>Shops_2</th>\n",
              "    </tr>\n",
              "  </thead>\n",
              "  <tbody>\n",
              "    <tr>\n",
              "      <th>4995</th>\n",
              "      <td>10379</td>\n",
              "      <td>29</td>\n",
              "      <td>2.0</td>\n",
              "      <td>43.177521</td>\n",
              "      <td>30.339945</td>\n",
              "      <td>5.0</td>\n",
              "      <td>6</td>\n",
              "      <td>5.0</td>\n",
              "      <td>1962</td>\n",
              "      <td>0.069660</td>\n",
              "      <td>B</td>\n",
              "      <td>B</td>\n",
              "      <td>31</td>\n",
              "      <td>6119</td>\n",
              "      <td>4</td>\n",
              "      <td>NaN</td>\n",
              "      <td>1</td>\n",
              "      <td>2</td>\n",
              "      <td>B</td>\n",
              "    </tr>\n",
              "    <tr>\n",
              "      <th>4996</th>\n",
              "      <td>16138</td>\n",
              "      <td>38</td>\n",
              "      <td>3.0</td>\n",
              "      <td>93.698122</td>\n",
              "      <td>94.521465</td>\n",
              "      <td>10.0</td>\n",
              "      <td>21</td>\n",
              "      <td>27.0</td>\n",
              "      <td>2018</td>\n",
              "      <td>0.060753</td>\n",
              "      <td>B</td>\n",
              "      <td>B</td>\n",
              "      <td>15</td>\n",
              "      <td>2787</td>\n",
              "      <td>2</td>\n",
              "      <td>520.0</td>\n",
              "      <td>0</td>\n",
              "      <td>7</td>\n",
              "      <td>B</td>\n",
              "    </tr>\n",
              "    <tr>\n",
              "      <th>4997</th>\n",
              "      <td>3912</td>\n",
              "      <td>101</td>\n",
              "      <td>1.0</td>\n",
              "      <td>33.656723</td>\n",
              "      <td>19.003259</td>\n",
              "      <td>5.0</td>\n",
              "      <td>2</td>\n",
              "      <td>5.0</td>\n",
              "      <td>1966</td>\n",
              "      <td>0.038693</td>\n",
              "      <td>B</td>\n",
              "      <td>B</td>\n",
              "      <td>28</td>\n",
              "      <td>6533</td>\n",
              "      <td>1</td>\n",
              "      <td>1015.0</td>\n",
              "      <td>2</td>\n",
              "      <td>5</td>\n",
              "      <td>B</td>\n",
              "    </tr>\n",
              "    <tr>\n",
              "      <th>4998</th>\n",
              "      <td>5722</td>\n",
              "      <td>10</td>\n",
              "      <td>1.0</td>\n",
              "      <td>38.635155</td>\n",
              "      <td>20.976257</td>\n",
              "      <td>9.0</td>\n",
              "      <td>8</td>\n",
              "      <td>14.0</td>\n",
              "      <td>1970</td>\n",
              "      <td>0.089040</td>\n",
              "      <td>B</td>\n",
              "      <td>B</td>\n",
              "      <td>33</td>\n",
              "      <td>7976</td>\n",
              "      <td>5</td>\n",
              "      <td>NaN</td>\n",
              "      <td>0</td>\n",
              "      <td>11</td>\n",
              "      <td>B</td>\n",
              "    </tr>\n",
              "    <tr>\n",
              "      <th>4999</th>\n",
              "      <td>11004</td>\n",
              "      <td>21</td>\n",
              "      <td>2.0</td>\n",
              "      <td>67.122742</td>\n",
              "      <td>33.944344</td>\n",
              "      <td>13.0</td>\n",
              "      <td>9</td>\n",
              "      <td>17.0</td>\n",
              "      <td>2009</td>\n",
              "      <td>0.194489</td>\n",
              "      <td>B</td>\n",
              "      <td>B</td>\n",
              "      <td>47</td>\n",
              "      <td>8004</td>\n",
              "      <td>3</td>\n",
              "      <td>125.0</td>\n",
              "      <td>3</td>\n",
              "      <td>5</td>\n",
              "      <td>B</td>\n",
              "    </tr>\n",
              "  </tbody>\n",
              "</table>\n",
              "</div>\n",
              "      <button class=\"colab-df-convert\" onclick=\"convertToInteractive('df-f7998c2a-0f1a-4ff1-8f1e-581199a55f29')\"\n",
              "              title=\"Convert this dataframe to an interactive table.\"\n",
              "              style=\"display:none;\">\n",
              "        \n",
              "  <svg xmlns=\"http://www.w3.org/2000/svg\" height=\"24px\"viewBox=\"0 0 24 24\"\n",
              "       width=\"24px\">\n",
              "    <path d=\"M0 0h24v24H0V0z\" fill=\"none\"/>\n",
              "    <path d=\"M18.56 5.44l.94 2.06.94-2.06 2.06-.94-2.06-.94-.94-2.06-.94 2.06-2.06.94zm-11 1L8.5 8.5l.94-2.06 2.06-.94-2.06-.94L8.5 2.5l-.94 2.06-2.06.94zm10 10l.94 2.06.94-2.06 2.06-.94-2.06-.94-.94-2.06-.94 2.06-2.06.94z\"/><path d=\"M17.41 7.96l-1.37-1.37c-.4-.4-.92-.59-1.43-.59-.52 0-1.04.2-1.43.59L10.3 9.45l-7.72 7.72c-.78.78-.78 2.05 0 2.83L4 21.41c.39.39.9.59 1.41.59.51 0 1.02-.2 1.41-.59l7.78-7.78 2.81-2.81c.8-.78.8-2.07 0-2.86zM5.41 20L4 18.59l7.72-7.72 1.47 1.35L5.41 20z\"/>\n",
              "  </svg>\n",
              "      </button>\n",
              "      \n",
              "  <style>\n",
              "    .colab-df-container {\n",
              "      display:flex;\n",
              "      flex-wrap:wrap;\n",
              "      gap: 12px;\n",
              "    }\n",
              "\n",
              "    .colab-df-convert {\n",
              "      background-color: #E8F0FE;\n",
              "      border: none;\n",
              "      border-radius: 50%;\n",
              "      cursor: pointer;\n",
              "      display: none;\n",
              "      fill: #1967D2;\n",
              "      height: 32px;\n",
              "      padding: 0 0 0 0;\n",
              "      width: 32px;\n",
              "    }\n",
              "\n",
              "    .colab-df-convert:hover {\n",
              "      background-color: #E2EBFA;\n",
              "      box-shadow: 0px 1px 2px rgba(60, 64, 67, 0.3), 0px 1px 3px 1px rgba(60, 64, 67, 0.15);\n",
              "      fill: #174EA6;\n",
              "    }\n",
              "\n",
              "    [theme=dark] .colab-df-convert {\n",
              "      background-color: #3B4455;\n",
              "      fill: #D2E3FC;\n",
              "    }\n",
              "\n",
              "    [theme=dark] .colab-df-convert:hover {\n",
              "      background-color: #434B5C;\n",
              "      box-shadow: 0px 1px 3px 1px rgba(0, 0, 0, 0.15);\n",
              "      filter: drop-shadow(0px 1px 2px rgba(0, 0, 0, 0.3));\n",
              "      fill: #FFFFFF;\n",
              "    }\n",
              "  </style>\n",
              "\n",
              "      <script>\n",
              "        const buttonEl =\n",
              "          document.querySelector('#df-f7998c2a-0f1a-4ff1-8f1e-581199a55f29 button.colab-df-convert');\n",
              "        buttonEl.style.display =\n",
              "          google.colab.kernel.accessAllowed ? 'block' : 'none';\n",
              "\n",
              "        async function convertToInteractive(key) {\n",
              "          const element = document.querySelector('#df-f7998c2a-0f1a-4ff1-8f1e-581199a55f29');\n",
              "          const dataTable =\n",
              "            await google.colab.kernel.invokeFunction('convertToInteractive',\n",
              "                                                     [key], {});\n",
              "          if (!dataTable) return;\n",
              "\n",
              "          const docLinkHtml = 'Like what you see? Visit the ' +\n",
              "            '<a target=\"_blank\" href=https://colab.research.google.com/notebooks/data_table.ipynb>data table notebook</a>'\n",
              "            + ' to learn more about interactive tables.';\n",
              "          element.innerHTML = '';\n",
              "          dataTable['output_type'] = 'display_data';\n",
              "          await google.colab.output.renderOutput(dataTable, element);\n",
              "          const docLink = document.createElement('div');\n",
              "          docLink.innerHTML = docLinkHtml;\n",
              "          element.appendChild(docLink);\n",
              "        }\n",
              "      </script>\n",
              "    </div>\n",
              "  </div>\n",
              "  "
            ]
          },
          "metadata": {},
          "execution_count": 46
        }
      ]
    },
    {
      "cell_type": "markdown",
      "source": [
        "### получим информацию о данных для обучения"
      ],
      "metadata": {
        "id": "q7ouK3sXMacj"
      }
    },
    {
      "cell_type": "code",
      "source": [
        "train_df.info()"
      ],
      "metadata": {
        "colab": {
          "base_uri": "https://localhost:8080/"
        },
        "id": "mvM0GFTUMXKh",
        "outputId": "c0084dec-47ab-46b4-a2a4-cd2f572f2cad"
      },
      "execution_count": 47,
      "outputs": [
        {
          "output_type": "stream",
          "name": "stdout",
          "text": [
            "<class 'pandas.core.frame.DataFrame'>\n",
            "RangeIndex: 10000 entries, 0 to 9999\n",
            "Data columns (total 20 columns):\n",
            " #   Column         Non-Null Count  Dtype  \n",
            "---  ------         --------------  -----  \n",
            " 0   Id             10000 non-null  int64  \n",
            " 1   DistrictId     10000 non-null  int64  \n",
            " 2   Rooms          10000 non-null  float64\n",
            " 3   Square         10000 non-null  float64\n",
            " 4   LifeSquare     7887 non-null   float64\n",
            " 5   KitchenSquare  10000 non-null  float64\n",
            " 6   Floor          10000 non-null  int64  \n",
            " 7   HouseFloor     10000 non-null  float64\n",
            " 8   HouseYear      10000 non-null  int64  \n",
            " 9   Ecology_1      10000 non-null  float64\n",
            " 10  Ecology_2      10000 non-null  object \n",
            " 11  Ecology_3      10000 non-null  object \n",
            " 12  Social_1       10000 non-null  int64  \n",
            " 13  Social_2       10000 non-null  int64  \n",
            " 14  Social_3       10000 non-null  int64  \n",
            " 15  Healthcare_1   5202 non-null   float64\n",
            " 16  Helthcare_2    10000 non-null  int64  \n",
            " 17  Shops_1        10000 non-null  int64  \n",
            " 18  Shops_2        10000 non-null  object \n",
            " 19  Price          10000 non-null  float64\n",
            "dtypes: float64(8), int64(9), object(3)\n",
            "memory usage: 1.5+ MB\n"
          ]
        }
      ]
    },
    {
      "cell_type": "markdown",
      "source": [
        "удалим колонку ID"
      ],
      "metadata": {
        "id": "aTB8Xr_-MiWL"
      }
    },
    {
      "cell_type": "code",
      "source": [
        "train_df = train_df.drop('Id', axis =1 )"
      ],
      "metadata": {
        "id": "Ppu0ognCMn61"
      },
      "execution_count": 48,
      "outputs": []
    },
    {
      "cell_type": "markdown",
      "source": [
        "оптимизируем использование памяти"
      ],
      "metadata": {
        "id": "sE6fWC0GMrvB"
      }
    },
    {
      "cell_type": "code",
      "source": [
        "train_df  = reduce_mem_usage(train_df)"
      ],
      "metadata": {
        "colab": {
          "base_uri": "https://localhost:8080/"
        },
        "id": "0S230nQDMxwJ",
        "outputId": "52af3f40-65b7-4d02-ef5b-e3d38fe66838"
      },
      "execution_count": 49,
      "outputs": [
        {
          "output_type": "stream",
          "name": "stdout",
          "text": [
            "Memory usage of dataframe is 1.45 MB\n",
            "Memory usage after optimization is: 0.47 MB\n",
            "Decreased by 67.7%\n"
          ]
        }
      ]
    },
    {
      "cell_type": "code",
      "source": [
        "train_df.info()"
      ],
      "metadata": {
        "colab": {
          "base_uri": "https://localhost:8080/"
        },
        "id": "9CCcXl9CNL4O",
        "outputId": "e0016f88-ff1f-462b-9cf2-b934194969bb"
      },
      "execution_count": 50,
      "outputs": [
        {
          "output_type": "stream",
          "name": "stdout",
          "text": [
            "<class 'pandas.core.frame.DataFrame'>\n",
            "RangeIndex: 10000 entries, 0 to 9999\n",
            "Data columns (total 19 columns):\n",
            " #   Column         Non-Null Count  Dtype   \n",
            "---  ------         --------------  -----   \n",
            " 0   DistrictId     10000 non-null  int16   \n",
            " 1   Rooms          10000 non-null  float32 \n",
            " 2   Square         10000 non-null  float32 \n",
            " 3   LifeSquare     7887 non-null   float32 \n",
            " 4   KitchenSquare  10000 non-null  float32 \n",
            " 5   Floor          10000 non-null  int8    \n",
            " 6   HouseFloor     10000 non-null  float32 \n",
            " 7   HouseYear      10000 non-null  int32   \n",
            " 8   Ecology_1      10000 non-null  float32 \n",
            " 9   Ecology_2      10000 non-null  category\n",
            " 10  Ecology_3      10000 non-null  category\n",
            " 11  Social_1       10000 non-null  int8    \n",
            " 12  Social_2       10000 non-null  int16   \n",
            " 13  Social_3       10000 non-null  int16   \n",
            " 14  Healthcare_1   5202 non-null   float32 \n",
            " 15  Helthcare_2    10000 non-null  int8    \n",
            " 16  Shops_1        10000 non-null  int8    \n",
            " 17  Shops_2        10000 non-null  category\n",
            " 18  Price          10000 non-null  float32 \n",
            "dtypes: category(3), float32(8), int16(3), int32(1), int8(4)\n",
            "memory usage: 479.0 KB\n"
          ]
        }
      ]
    },
    {
      "cell_type": "markdown",
      "source": [
        "разделим признаки на числовые и категориальные"
      ],
      "metadata": {
        "id": "zB-HEBEqPchV"
      }
    },
    {
      "cell_type": "code",
      "source": [
        "num_feat = list(train_df.select_dtypes(exclude='category').columns)\n",
        "num_feat"
      ],
      "metadata": {
        "colab": {
          "base_uri": "https://localhost:8080/"
        },
        "id": "UOR53aI4PsK2",
        "outputId": "3a3bb415-fac9-47c4-c90b-8613b358f535"
      },
      "execution_count": 51,
      "outputs": [
        {
          "output_type": "execute_result",
          "data": {
            "text/plain": [
              "['DistrictId',\n",
              " 'Rooms',\n",
              " 'Square',\n",
              " 'LifeSquare',\n",
              " 'KitchenSquare',\n",
              " 'Floor',\n",
              " 'HouseFloor',\n",
              " 'HouseYear',\n",
              " 'Ecology_1',\n",
              " 'Social_1',\n",
              " 'Social_2',\n",
              " 'Social_3',\n",
              " 'Healthcare_1',\n",
              " 'Helthcare_2',\n",
              " 'Shops_1',\n",
              " 'Price']"
            ]
          },
          "metadata": {},
          "execution_count": 51
        }
      ]
    },
    {
      "cell_type": "code",
      "source": [
        "obj_feat = list(train_df.select_dtypes(include='category').columns)\n",
        "obj_feat"
      ],
      "metadata": {
        "colab": {
          "base_uri": "https://localhost:8080/"
        },
        "id": "o0QdAAptRP1T",
        "outputId": "56922192-ae19-44d4-a85d-526d75e59c07"
      },
      "execution_count": 52,
      "outputs": [
        {
          "output_type": "execute_result",
          "data": {
            "text/plain": [
              "['Ecology_2', 'Ecology_3', 'Shops_2']"
            ]
          },
          "metadata": {},
          "execution_count": 52
        }
      ]
    },
    {
      "cell_type": "markdown",
      "source": [
        "### Взглянем на данные"
      ],
      "metadata": {
        "id": "ymg4ezufK26D"
      }
    },
    {
      "cell_type": "code",
      "source": [
        "train_df[num_feat].hist(\n",
        "    figsize=(16,16)\n",
        ")\n",
        "plt.show()"
      ],
      "metadata": {
        "colab": {
          "base_uri": "https://localhost:8080/",
          "height": 0
        },
        "id": "drgn70ptK7cs",
        "outputId": "b528a46a-a0b3-4132-a130-d909e17c7dd2"
      },
      "execution_count": 53,
      "outputs": [
        {
          "output_type": "display_data",
          "data": {
            "text/plain": [
              "<Figure size 1152x1152 with 16 Axes>"
            ],
            "image/png": "[encoded data removed]"
          },
          "metadata": {
            "needs_background": "light"
          }
        }
      ]
    },
    {
      "cell_type": "markdown",
      "source": [
        "## зависимость цены от признаков"
      ],
      "metadata": {
        "id": "WZHicQYEWlac"
      }
    },
    {
      "cell_type": "code",
      "source": [
        "grid = sns.jointplot(train_df['Price'], train_df['DistrictId'], kind='reg')\n",
        "grid.fig.set_figwidth(8)\n",
        "grid.fig.set_figheight(8)\n",
        "\n",
        "plt.show()"
      ],
      "metadata": {
        "colab": {
          "base_uri": "https://localhost:8080/",
          "height": 0
        },
        "id": "3wFF1Pj3W86U",
        "outputId": "cc2d32a1-b9f4-4fe1-cd5e-25e6081fcb43"
      },
      "execution_count": 54,
      "outputs": [
        {
          "output_type": "display_data",
          "data": {
            "text/plain": [
              "<Figure size 576x576 with 3 Axes>"
            ],
            "image/png": "[encoded data removed]"
          },
          "metadata": {
            "needs_background": "light"
          }
        }
      ]
    },
    {
      "cell_type": "markdown",
      "source": [
        "При анализе графиков отношения Цены на квартиру к признакам, было выявлено, что наибольшее влияние на цену оказывают: DistrictId (район), Floor (этаж квартиры), Square (общая площадь), Ecology_1 (имеет обратную зависимость), Social_1 (при чем Social_1 и Social_2 корелируют друг с другом), Social_3, Helthcare_2 (при чем Healthcare_1 и Helthcare_2 так же корелируют друг с другом, но у Helthcare_2 меньше выбросов) и Shops_1.\n",
        "\n",
        "Именно их и будем использовать для обучения модели.\n",
        "\n",
        "\n"
      ],
      "metadata": {
        "id": "wuF_E43cZbiZ"
      }
    },
    {
      "cell_type": "markdown",
      "source": [
        "### не много графиков (закоментированы)"
      ],
      "metadata": {
        "id": "k3QmXP90eD7u"
      }
    },
    {
      "cell_type": "code",
      "source": [
        "# grid = sns.jointplot(train_df['Price'], train_df['Floor'], kind='reg')\n",
        "# grid.fig.set_figwidth(8)\n",
        "# grid.fig.set_figheight(8)\n",
        "\n",
        "# plt.show()"
      ],
      "metadata": {
        "id": "xOSeiROcTKWu"
      },
      "execution_count": 55,
      "outputs": []
    },
    {
      "cell_type": "code",
      "source": [
        "# grid = sns.jointplot(train_df['Price'], train_df['Square'], kind='reg')\n",
        "# grid.fig.set_figwidth(8)\n",
        "# grid.fig.set_figheight(8)\n",
        "\n",
        "# plt.show()"
      ],
      "metadata": {
        "id": "PRCFMrgCT_y8"
      },
      "execution_count": 56,
      "outputs": []
    },
    {
      "cell_type": "code",
      "source": [
        "# grid = sns.jointplot(train_df['Price'], train_df['Ecology_1'], kind='reg')\n",
        "# grid.fig.set_figwidth(8)\n",
        "# grid.fig.set_figheight(8)\n",
        "\n",
        "# plt.show()"
      ],
      "metadata": {
        "id": "L60jqrc3XkzD"
      },
      "execution_count": 57,
      "outputs": []
    },
    {
      "cell_type": "code",
      "source": [
        "# grid = sns.jointplot(train_df['Price'], train_df['Social_1'], kind='reg')\n",
        "# grid.fig.set_figwidth(8)\n",
        "# grid.fig.set_figheight(8)\n",
        "\n",
        "# plt.show()"
      ],
      "metadata": {
        "id": "pn159MYLZB2I"
      },
      "execution_count": 58,
      "outputs": []
    },
    {
      "cell_type": "code",
      "source": [
        "# grid = sns.jointplot(train_df['Price'], train_df['Social_3'], kind='reg')\n",
        "# grid.fig.set_figwidth(8)\n",
        "# grid.fig.set_figheight(8)\n",
        "\n",
        "# plt.show()"
      ],
      "metadata": {
        "id": "wtXe2uPtZKJG"
      },
      "execution_count": 59,
      "outputs": []
    },
    {
      "cell_type": "code",
      "source": [
        "# grid = sns.jointplot(train_df['Price'], train_df['Helthcare_2'], kind='reg')\n",
        "# grid.fig.set_figwidth(8)\n",
        "# grid.fig.set_figheight(8)\n",
        "\n",
        "# plt.show()"
      ],
      "metadata": {
        "id": "1GqlFVBQZjTG"
      },
      "execution_count": 60,
      "outputs": []
    },
    {
      "cell_type": "code",
      "source": [
        "# grid = sns.jointplot(train_df['Price'], train_df['Shops_1'], kind='reg')\n",
        "# grid.fig.set_figwidth(8)\n",
        "# grid.fig.set_figheight(8)\n",
        "\n",
        "# plt.show()"
      ],
      "metadata": {
        "id": "V72-dWt6a3t5"
      },
      "execution_count": 61,
      "outputs": []
    },
    {
      "cell_type": "markdown",
      "source": [
        "## Обработаем пропуски и выбросы в данных"
      ],
      "metadata": {
        "id": "FkO19Dyih9Fv"
      }
    },
    {
      "cell_type": "code",
      "source": [
        "train_df.describe()"
      ],
      "metadata": {
        "colab": {
          "base_uri": "https://localhost:8080/",
          "height": 364
        },
        "id": "VIERNse0iKmn",
        "outputId": "22a2cd18-1f5a-4094-acfb-913a9db2cdc4"
      },
      "execution_count": 62,
      "outputs": [
        {
          "output_type": "execute_result",
          "data": {
            "text/plain": [
              "         DistrictId         Rooms        Square   LifeSquare  KitchenSquare  \\\n",
              "count  10000.000000  10000.000000  10000.000000  7887.000000   10000.000000   \n",
              "mean      50.400800      1.890500     56.315777    37.199646       6.273300   \n",
              "std       43.587592      0.839512     21.058731    86.241211      28.560917   \n",
              "min        0.000000      0.000000      1.136859     0.370619       0.000000   \n",
              "25%       20.000000      1.000000     41.774879    22.769833       1.000000   \n",
              "50%       36.000000      2.000000     52.513309    32.781261       6.000000   \n",
              "75%       75.000000      2.000000     65.900627    45.128803       9.000000   \n",
              "max      209.000000     19.000000    641.065186  7480.592285    2014.000000   \n",
              "\n",
              "              Floor    HouseFloor     HouseYear     Ecology_1      Social_1  \\\n",
              "count  10000.000000  10000.000000  1.000000e+04  10000.000000  10000.000000   \n",
              "mean       8.526700     12.609400  3.990166e+03      0.118858     24.687000   \n",
              "std        5.241148      6.775974  2.005003e+05      0.119025     17.532614   \n",
              "min        1.000000      0.000000  1.910000e+03      0.000000      0.000000   \n",
              "25%        4.000000      9.000000  1.974000e+03      0.017647      6.000000   \n",
              "50%        7.000000     13.000000  1.977000e+03      0.075424     25.000000   \n",
              "75%       12.000000     17.000000  2.001000e+03      0.195781     36.000000   \n",
              "max       42.000000    117.000000  2.005201e+07      0.521867     74.000000   \n",
              "\n",
              "           Social_2      Social_3  Healthcare_1   Helthcare_2       Shops_1  \\\n",
              "count  10000.000000  10000.000000   5202.000000  10000.000000  10000.000000   \n",
              "mean    5352.157400      8.039200   1142.904419      1.319500      4.231300   \n",
              "std     4006.799803     23.831875   1021.517273      1.493601      4.806341   \n",
              "min      168.000000      0.000000      0.000000      0.000000      0.000000   \n",
              "25%     1564.000000      0.000000    350.000000      0.000000      1.000000   \n",
              "50%     5285.000000      2.000000    900.000000      1.000000      3.000000   \n",
              "75%     7227.000000      5.000000   1548.000000      2.000000      6.000000   \n",
              "max    19083.000000    141.000000   4849.000000      6.000000     23.000000   \n",
              "\n",
              "               Price  \n",
              "count   10000.000000  \n",
              "mean   214138.859375  \n",
              "std     92872.289062  \n",
              "min     59174.777344  \n",
              "25%    153872.628906  \n",
              "50%    192269.648438  \n",
              "75%    249135.460938  \n",
              "max    633233.437500  "
            ],
            "text/html": [
              "\n",
              "  <div id=\"df-6cbb63db-0697-470f-8853-860d49133631\">\n",
              "    <div class=\"colab-df-container\">\n",
              "      <div>\n",
              "<style scoped>\n",
              "    .dataframe tbody tr th:only-of-type {\n",
              "        vertical-align: middle;\n",
              "    }\n",
              "\n",
              "    .dataframe tbody tr th {\n",
              "        vertical-align: top;\n",
              "    }\n",
              "\n",
              "    .dataframe thead th {\n",
              "        text-align: right;\n",
              "    }\n",
              "</style>\n",
              "<table border=\"1\" class=\"dataframe\">\n",
              "  <thead>\n",
              "    <tr style=\"text-align: right;\">\n",
              "      <th></th>\n",
              "      <th>DistrictId</th>\n",
              "      <th>Rooms</th>\n",
              "      <th>Square</th>\n",
              "      <th>LifeSquare</th>\n",
              "      <th>KitchenSquare</th>\n",
              "      <th>Floor</th>\n",
              "      <th>HouseFloor</th>\n",
              "      <th>HouseYear</th>\n",
              "      <th>Ecology_1</th>\n",
              "      <th>Social_1</th>\n",
              "      <th>Social_2</th>\n",
              "      <th>Social_3</th>\n",
              "      <th>Healthcare_1</th>\n",
              "      <th>Helthcare_2</th>\n",
              "      <th>Shops_1</th>\n",
              "      <th>Price</th>\n",
              "    </tr>\n",
              "  </thead>\n",
              "  <tbody>\n",
              "    <tr>\n",
              "      <th>count</th>\n",
              "      <td>10000.000000</td>\n",
              "      <td>10000.000000</td>\n",
              "      <td>10000.000000</td>\n",
              "      <td>7887.000000</td>\n",
              "      <td>10000.000000</td>\n",
              "      <td>10000.000000</td>\n",
              "      <td>10000.000000</td>\n",
              "      <td>1.000000e+04</td>\n",
              "      <td>10000.000000</td>\n",
              "      <td>10000.000000</td>\n",
              "      <td>10000.000000</td>\n",
              "      <td>10000.000000</td>\n",
              "      <td>5202.000000</td>\n",
              "      <td>10000.000000</td>\n",
              "      <td>10000.000000</td>\n",
              "      <td>10000.000000</td>\n",
              "    </tr>\n",
              "    <tr>\n",
              "      <th>mean</th>\n",
              "      <td>50.400800</td>\n",
              "      <td>1.890500</td>\n",
              "      <td>56.315777</td>\n",
              "      <td>37.199646</td>\n",
              "      <td>6.273300</td>\n",
              "      <td>8.526700</td>\n",
              "      <td>12.609400</td>\n",
              "      <td>3.990166e+03</td>\n",
              "      <td>0.118858</td>\n",
              "      <td>24.687000</td>\n",
              "      <td>5352.157400</td>\n",
              "      <td>8.039200</td>\n",
              "      <td>1142.904419</td>\n",
              "      <td>1.319500</td>\n",
              "      <td>4.231300</td>\n",
              "      <td>214138.859375</td>\n",
              "    </tr>\n",
              "    <tr>\n",
              "      <th>std</th>\n",
              "      <td>43.587592</td>\n",
              "      <td>0.839512</td>\n",
              "      <td>21.058731</td>\n",
              "      <td>86.241211</td>\n",
              "      <td>28.560917</td>\n",
              "      <td>5.241148</td>\n",
              "      <td>6.775974</td>\n",
              "      <td>2.005003e+05</td>\n",
              "      <td>0.119025</td>\n",
              "      <td>17.532614</td>\n",
              "      <td>4006.799803</td>\n",
              "      <td>23.831875</td>\n",
              "      <td>1021.517273</td>\n",
              "      <td>1.493601</td>\n",
              "      <td>4.806341</td>\n",
              "      <td>92872.289062</td>\n",
              "    </tr>\n",
              "    <tr>\n",
              "      <th>min</th>\n",
              "      <td>0.000000</td>\n",
              "      <td>0.000000</td>\n",
              "      <td>1.136859</td>\n",
              "      <td>0.370619</td>\n",
              "      <td>0.000000</td>\n",
              "      <td>1.000000</td>\n",
              "      <td>0.000000</td>\n",
              "      <td>1.910000e+03</td>\n",
              "      <td>0.000000</td>\n",
              "      <td>0.000000</td>\n",
              "      <td>168.000000</td>\n",
              "      <td>0.000000</td>\n",
              "      <td>0.000000</td>\n",
              "      <td>0.000000</td>\n",
              "      <td>0.000000</td>\n",
              "      <td>59174.777344</td>\n",
              "    </tr>\n",
              "    <tr>\n",
              "      <th>25%</th>\n",
              "      <td>20.000000</td>\n",
              "      <td>1.000000</td>\n",
              "      <td>41.774879</td>\n",
              "      <td>22.769833</td>\n",
              "      <td>1.000000</td>\n",
              "      <td>4.000000</td>\n",
              "      <td>9.000000</td>\n",
              "      <td>1.974000e+03</td>\n",
              "      <td>0.017647</td>\n",
              "      <td>6.000000</td>\n",
              "      <td>1564.000000</td>\n",
              "      <td>0.000000</td>\n",
              "      <td>350.000000</td>\n",
              "      <td>0.000000</td>\n",
              "      <td>1.000000</td>\n",
              "      <td>153872.628906</td>\n",
              "    </tr>\n",
              "    <tr>\n",
              "      <th>50%</th>\n",
              "      <td>36.000000</td>\n",
              "      <td>2.000000</td>\n",
              "      <td>52.513309</td>\n",
              "      <td>32.781261</td>\n",
              "      <td>6.000000</td>\n",
              "      <td>7.000000</td>\n",
              "      <td>13.000000</td>\n",
              "      <td>1.977000e+03</td>\n",
              "      <td>0.075424</td>\n",
              "      <td>25.000000</td>\n",
              "      <td>5285.000000</td>\n",
              "      <td>2.000000</td>\n",
              "      <td>900.000000</td>\n",
              "      <td>1.000000</td>\n",
              "      <td>3.000000</td>\n",
              "      <td>192269.648438</td>\n",
              "    </tr>\n",
              "    <tr>\n",
              "      <th>75%</th>\n",
              "      <td>75.000000</td>\n",
              "      <td>2.000000</td>\n",
              "      <td>65.900627</td>\n",
              "      <td>45.128803</td>\n",
              "      <td>9.000000</td>\n",
              "      <td>12.000000</td>\n",
              "      <td>17.000000</td>\n",
              "      <td>2.001000e+03</td>\n",
              "      <td>0.195781</td>\n",
              "      <td>36.000000</td>\n",
              "      <td>7227.000000</td>\n",
              "      <td>5.000000</td>\n",
              "      <td>1548.000000</td>\n",
              "      <td>2.000000</td>\n",
              "      <td>6.000000</td>\n",
              "      <td>249135.460938</td>\n",
              "    </tr>\n",
              "    <tr>\n",
              "      <th>max</th>\n",
              "      <td>209.000000</td>\n",
              "      <td>19.000000</td>\n",
              "      <td>641.065186</td>\n",
              "      <td>7480.592285</td>\n",
              "      <td>2014.000000</td>\n",
              "      <td>42.000000</td>\n",
              "      <td>117.000000</td>\n",
              "      <td>2.005201e+07</td>\n",
              "      <td>0.521867</td>\n",
              "      <td>74.000000</td>\n",
              "      <td>19083.000000</td>\n",
              "      <td>141.000000</td>\n",
              "      <td>4849.000000</td>\n",
              "      <td>6.000000</td>\n",
              "      <td>23.000000</td>\n",
              "      <td>633233.437500</td>\n",
              "    </tr>\n",
              "  </tbody>\n",
              "</table>\n",
              "</div>\n",
              "      <button class=\"colab-df-convert\" onclick=\"convertToInteractive('df-6cbb63db-0697-470f-8853-860d49133631')\"\n",
              "              title=\"Convert this dataframe to an interactive table.\"\n",
              "              style=\"display:none;\">\n",
              "        \n",
              "  <svg xmlns=\"http://www.w3.org/2000/svg\" height=\"24px\"viewBox=\"0 0 24 24\"\n",
              "       width=\"24px\">\n",
              "    <path d=\"M0 0h24v24H0V0z\" fill=\"none\"/>\n",
              "    <path d=\"M18.56 5.44l.94 2.06.94-2.06 2.06-.94-2.06-.94-.94-2.06-.94 2.06-2.06.94zm-11 1L8.5 8.5l.94-2.06 2.06-.94-2.06-.94L8.5 2.5l-.94 2.06-2.06.94zm10 10l.94 2.06.94-2.06 2.06-.94-2.06-.94-.94-2.06-.94 2.06-2.06.94z\"/><path d=\"M17.41 7.96l-1.37-1.37c-.4-.4-.92-.59-1.43-.59-.52 0-1.04.2-1.43.59L10.3 9.45l-7.72 7.72c-.78.78-.78 2.05 0 2.83L4 21.41c.39.39.9.59 1.41.59.51 0 1.02-.2 1.41-.59l7.78-7.78 2.81-2.81c.8-.78.8-2.07 0-2.86zM5.41 20L4 18.59l7.72-7.72 1.47 1.35L5.41 20z\"/>\n",
              "  </svg>\n",
              "      </button>\n",
              "      \n",
              "  <style>\n",
              "    .colab-df-container {\n",
              "      display:flex;\n",
              "      flex-wrap:wrap;\n",
              "      gap: 12px;\n",
              "    }\n",
              "\n",
              "    .colab-df-convert {\n",
              "      background-color: #E8F0FE;\n",
              "      border: none;\n",
              "      border-radius: 50%;\n",
              "      cursor: pointer;\n",
              "      display: none;\n",
              "      fill: #1967D2;\n",
              "      height: 32px;\n",
              "      padding: 0 0 0 0;\n",
              "      width: 32px;\n",
              "    }\n",
              "\n",
              "    .colab-df-convert:hover {\n",
              "      background-color: #E2EBFA;\n",
              "      box-shadow: 0px 1px 2px rgba(60, 64, 67, 0.3), 0px 1px 3px 1px rgba(60, 64, 67, 0.15);\n",
              "      fill: #174EA6;\n",
              "    }\n",
              "\n",
              "    [theme=dark] .colab-df-convert {\n",
              "      background-color: #3B4455;\n",
              "      fill: #D2E3FC;\n",
              "    }\n",
              "\n",
              "    [theme=dark] .colab-df-convert:hover {\n",
              "      background-color: #434B5C;\n",
              "      box-shadow: 0px 1px 3px 1px rgba(0, 0, 0, 0.15);\n",
              "      filter: drop-shadow(0px 1px 2px rgba(0, 0, 0, 0.3));\n",
              "      fill: #FFFFFF;\n",
              "    }\n",
              "  </style>\n",
              "\n",
              "      <script>\n",
              "        const buttonEl =\n",
              "          document.querySelector('#df-6cbb63db-0697-470f-8853-860d49133631 button.colab-df-convert');\n",
              "        buttonEl.style.display =\n",
              "          google.colab.kernel.accessAllowed ? 'block' : 'none';\n",
              "\n",
              "        async function convertToInteractive(key) {\n",
              "          const element = document.querySelector('#df-6cbb63db-0697-470f-8853-860d49133631');\n",
              "          const dataTable =\n",
              "            await google.colab.kernel.invokeFunction('convertToInteractive',\n",
              "                                                     [key], {});\n",
              "          if (!dataTable) return;\n",
              "\n",
              "          const docLinkHtml = 'Like what you see? Visit the ' +\n",
              "            '<a target=\"_blank\" href=https://colab.research.google.com/notebooks/data_table.ipynb>data table notebook</a>'\n",
              "            + ' to learn more about interactive tables.';\n",
              "          element.innerHTML = '';\n",
              "          dataTable['output_type'] = 'display_data';\n",
              "          await google.colab.output.renderOutput(dataTable, element);\n",
              "          const docLink = document.createElement('div');\n",
              "          docLink.innerHTML = docLinkHtml;\n",
              "          element.appendChild(docLink);\n",
              "        }\n",
              "      </script>\n",
              "    </div>\n",
              "  </div>\n",
              "  "
            ]
          },
          "metadata": {},
          "execution_count": 62
        }
      ]
    },
    {
      "cell_type": "code",
      "source": [
        "data_inst = Data()\n",
        "\n",
        "# тренировочные данные\n",
        "data_inst.fit(train_df)\n",
        "train_df = data_inst.transform(train_df)\n",
        "train_df = data_inst.features(train_df)\n",
        "\n",
        "# тестовые данные\n",
        "test_df = data_inst.transform(test_df)\n",
        "test_df = data_inst.features(test_df)"
      ],
      "metadata": {
        "id": "XOex9DBVmF7C"
      },
      "execution_count": 63,
      "outputs": []
    },
    {
      "cell_type": "code",
      "source": [
        "num_feat = list(train_df.select_dtypes(exclude='category').columns)\n",
        "num_feat "
      ],
      "metadata": {
        "colab": {
          "base_uri": "https://localhost:8080/"
        },
        "id": "zRPOBJ7OoHOJ",
        "outputId": "54890230-a5e2-47ce-cd91-603372077e65"
      },
      "execution_count": 64,
      "outputs": [
        {
          "output_type": "execute_result",
          "data": {
            "text/plain": [
              "['DistrictId',\n",
              " 'Rooms',\n",
              " 'Square',\n",
              " 'LifeSquare',\n",
              " 'KitchenSquare',\n",
              " 'Floor',\n",
              " 'HouseFloor',\n",
              " 'HouseYear',\n",
              " 'Ecology_1',\n",
              " 'Social_1',\n",
              " 'Social_2',\n",
              " 'Social_3',\n",
              " 'Healthcare_1',\n",
              " 'Helthcare_2',\n",
              " 'Shops_1',\n",
              " 'Price',\n",
              " 'Ecology_2_A',\n",
              " 'Ecology_2_B',\n",
              " 'Ecology_3_A',\n",
              " 'Ecology_3_B',\n",
              " 'Shops_2_A',\n",
              " 'Shops_2_B',\n",
              " 'DistrictId_counts',\n",
              " 'AverageSquareMeterPrice',\n",
              " 'AverageHealthcare_1']"
            ]
          },
          "metadata": {},
          "execution_count": 64
        }
      ]
    },
    {
      "cell_type": "code",
      "source": [
        "train_df.info()"
      ],
      "metadata": {
        "colab": {
          "base_uri": "https://localhost:8080/"
        },
        "id": "VB4ZJtgXBezv",
        "outputId": "e35d9e43-0dd4-414d-b6fb-655e759b88d9"
      },
      "execution_count": 65,
      "outputs": [
        {
          "output_type": "stream",
          "name": "stdout",
          "text": [
            "<class 'pandas.core.frame.DataFrame'>\n",
            "Int64Index: 10000 entries, 0 to 9999\n",
            "Data columns (total 28 columns):\n",
            " #   Column                   Non-Null Count  Dtype   \n",
            "---  ------                   --------------  -----   \n",
            " 0   DistrictId               10000 non-null  int16   \n",
            " 1   Rooms                    10000 non-null  float32 \n",
            " 2   Square                   10000 non-null  float32 \n",
            " 3   LifeSquare               10000 non-null  float32 \n",
            " 4   KitchenSquare            10000 non-null  float32 \n",
            " 5   Floor                    10000 non-null  float32 \n",
            " 6   HouseFloor               10000 non-null  float32 \n",
            " 7   HouseYear                10000 non-null  int32   \n",
            " 8   Ecology_1                10000 non-null  float32 \n",
            " 9   Ecology_2                10000 non-null  category\n",
            " 10  Ecology_3                10000 non-null  category\n",
            " 11  Social_1                 10000 non-null  int8    \n",
            " 12  Social_2                 10000 non-null  int16   \n",
            " 13  Social_3                 10000 non-null  int16   \n",
            " 14  Healthcare_1             5202 non-null   float32 \n",
            " 15  Helthcare_2              10000 non-null  int8    \n",
            " 16  Shops_1                  10000 non-null  int8    \n",
            " 17  Shops_2                  10000 non-null  category\n",
            " 18  Price                    10000 non-null  float32 \n",
            " 19  Ecology_2_A              10000 non-null  int8    \n",
            " 20  Ecology_2_B              10000 non-null  int8    \n",
            " 21  Ecology_3_A              10000 non-null  int8    \n",
            " 22  Ecology_3_B              10000 non-null  int8    \n",
            " 23  Shops_2_A                10000 non-null  int8    \n",
            " 24  Shops_2_B                10000 non-null  int8    \n",
            " 25  DistrictId_counts        10000 non-null  int64   \n",
            " 26  AverageSquareMeterPrice  10000 non-null  float32 \n",
            " 27  AverageHealthcare_1      10000 non-null  float32 \n",
            "dtypes: category(3), float32(11), int16(3), int32(1), int64(1), int8(9)\n",
            "memory usage: 801.1 KB\n"
          ]
        }
      ]
    },
    {
      "cell_type": "markdown",
      "source": [
        "# Тренировка модели"
      ],
      "metadata": {
        "id": "Bxt6bEInpDYR"
      }
    },
    {
      "cell_type": "code",
      "source": [
        "feat = ['DistrictId',\n",
        "          'Rooms',\n",
        "          'Square',\n",
        "          'LifeSquare',\n",
        "          #'KitchenSquare',\n",
        "          'Floor',\n",
        "          'HouseFloor',\n",
        "          'HouseYear',\n",
        "          'Ecology_1',\n",
        "          'Social_1',\n",
        "          'Social_2',\n",
        "          'Social_3',\n",
        "          'Helthcare_2',\n",
        "          'Shops_1',\n",
        "          'Ecology_2_A',\n",
        "          'Ecology_2_B',\n",
        "          'Ecology_3_A',\n",
        "          'Ecology_3_B',\n",
        "          'Shops_2_A',\n",
        "          'Shops_2_B',\n",
        "         'DistrictId_counts',\n",
        "         'AverageSquareMeterPrice',\n",
        "         #'AverageHealthcare_1'\n",
        "          ]\n",
        "x = train_df[feat]\n",
        "y = train_df['Price']\n",
        "\n",
        "x_train, x_test, y_train, y_test = train_test_split(x, y, test_size = 0.2, random_state = 42)"
      ],
      "metadata": {
        "id": "5VIwV5cVpJlr"
      },
      "execution_count": 82,
      "outputs": []
    },
    {
      "cell_type": "code",
      "source": [
        "forest = RandomForestRegressor()\n",
        "forest.fit(x_train, y_train)"
      ],
      "metadata": {
        "colab": {
          "base_uri": "https://localhost:8080/"
        },
        "id": "bDPpnUWJy9BT",
        "outputId": "46965c63-9db5-4402-a6cd-c744fc9c26d5"
      },
      "execution_count": 83,
      "outputs": [
        {
          "output_type": "execute_result",
          "data": {
            "text/plain": [
              "RandomForestRegressor()"
            ]
          },
          "metadata": {},
          "execution_count": 83
        }
      ]
    },
    {
      "cell_type": "code",
      "source": [
        "train_pred = forest.predict(x_train)\n",
        "test_pred = forest.predict(x_test)\n",
        "evaluate_preds(y_train, train_pred, y_test, test_pred)"
      ],
      "metadata": {
        "colab": {
          "base_uri": "https://localhost:8080/",
          "height": 703
        },
        "id": "mmoaxbESpwnU",
        "outputId": "7a6fe5c7-a89b-49ab-96e8-5170fad01e2a"
      },
      "execution_count": 84,
      "outputs": [
        {
          "output_type": "stream",
          "name": "stdout",
          "text": [
            "Train R2:\t0.963\n",
            "Test R2:\t0.762\n",
            "Train RMSE:\t17778.432\n",
            "Test RMSE:\t46662.016\n"
          ]
        },
        {
          "output_type": "display_data",
          "data": {
            "text/plain": [
              "<Figure size 1296x720 with 2 Axes>"
            ],
            "image/png": "[encoded data removed]"
          },
          "metadata": {
            "needs_background": "light"
          }
        }
      ]
    },
    {
      "cell_type": "code",
      "source": [
        "forest = RandomForestRegressor()\n",
        "forest.fit(x, y)"
      ],
      "metadata": {
        "colab": {
          "base_uri": "https://localhost:8080/"
        },
        "id": "VVPlHXzSaM32",
        "outputId": "246a74a6-0544-4ebe-be92-3d461071370a"
      },
      "execution_count": 85,
      "outputs": [
        {
          "output_type": "execute_result",
          "data": {
            "text/plain": [
              "RandomForestRegressor()"
            ]
          },
          "metadata": {},
          "execution_count": 85
        }
      ]
    },
    {
      "cell_type": "code",
      "source": [
        "itog_test = test_df[feat]\n",
        "itog_test = itog_test.fillna(0)\n",
        "pred = pd.DataFrame(forest.predict(itog_test))\n",
        "pred.head()"
      ],
      "metadata": {
        "id": "cpvJVgiYvVOX",
        "colab": {
          "base_uri": "https://localhost:8080/",
          "height": 206
        },
        "outputId": "bcfed0e6-841f-4a5e-d120-0c8de2c131fe"
      },
      "execution_count": 86,
      "outputs": [
        {
          "output_type": "execute_result",
          "data": {
            "text/plain": [
              "               0\n",
              "0  160311.345938\n",
              "1  112769.596250\n",
              "2  142504.732813\n",
              "3  149152.063594\n",
              "4  170807.278594"
            ],
            "text/html": [
              "\n",
              "  <div id=\"df-b8c5697c-8573-4bc9-941a-384e84e7c356\">\n",
              "    <div class=\"colab-df-container\">\n",
              "      <div>\n",
              "<style scoped>\n",
              "    .dataframe tbody tr th:only-of-type {\n",
              "        vertical-align: middle;\n",
              "    }\n",
              "\n",
              "    .dataframe tbody tr th {\n",
              "        vertical-align: top;\n",
              "    }\n",
              "\n",
              "    .dataframe thead th {\n",
              "        text-align: right;\n",
              "    }\n",
              "</style>\n",
              "<table border=\"1\" class=\"dataframe\">\n",
              "  <thead>\n",
              "    <tr style=\"text-align: right;\">\n",
              "      <th></th>\n",
              "      <th>0</th>\n",
              "    </tr>\n",
              "  </thead>\n",
              "  <tbody>\n",
              "    <tr>\n",
              "      <th>0</th>\n",
              "      <td>160311.345938</td>\n",
              "    </tr>\n",
              "    <tr>\n",
              "      <th>1</th>\n",
              "      <td>112769.596250</td>\n",
              "    </tr>\n",
              "    <tr>\n",
              "      <th>2</th>\n",
              "      <td>142504.732813</td>\n",
              "    </tr>\n",
              "    <tr>\n",
              "      <th>3</th>\n",
              "      <td>149152.063594</td>\n",
              "    </tr>\n",
              "    <tr>\n",
              "      <th>4</th>\n",
              "      <td>170807.278594</td>\n",
              "    </tr>\n",
              "  </tbody>\n",
              "</table>\n",
              "</div>\n",
              "      <button class=\"colab-df-convert\" onclick=\"convertToInteractive('df-b8c5697c-8573-4bc9-941a-384e84e7c356')\"\n",
              "              title=\"Convert this dataframe to an interactive table.\"\n",
              "              style=\"display:none;\">\n",
              "        \n",
              "  <svg xmlns=\"http://www.w3.org/2000/svg\" height=\"24px\"viewBox=\"0 0 24 24\"\n",
              "       width=\"24px\">\n",
              "    <path d=\"M0 0h24v24H0V0z\" fill=\"none\"/>\n",
              "    <path d=\"M18.56 5.44l.94 2.06.94-2.06 2.06-.94-2.06-.94-.94-2.06-.94 2.06-2.06.94zm-11 1L8.5 8.5l.94-2.06 2.06-.94-2.06-.94L8.5 2.5l-.94 2.06-2.06.94zm10 10l.94 2.06.94-2.06 2.06-.94-2.06-.94-.94-2.06-.94 2.06-2.06.94z\"/><path d=\"M17.41 7.96l-1.37-1.37c-.4-.4-.92-.59-1.43-.59-.52 0-1.04.2-1.43.59L10.3 9.45l-7.72 7.72c-.78.78-.78 2.05 0 2.83L4 21.41c.39.39.9.59 1.41.59.51 0 1.02-.2 1.41-.59l7.78-7.78 2.81-2.81c.8-.78.8-2.07 0-2.86zM5.41 20L4 18.59l7.72-7.72 1.47 1.35L5.41 20z\"/>\n",
              "  </svg>\n",
              "      </button>\n",
              "      \n",
              "  <style>\n",
              "    .colab-df-container {\n",
              "      display:flex;\n",
              "      flex-wrap:wrap;\n",
              "      gap: 12px;\n",
              "    }\n",
              "\n",
              "    .colab-df-convert {\n",
              "      background-color: #E8F0FE;\n",
              "      border: none;\n",
              "      border-radius: 50%;\n",
              "      cursor: pointer;\n",
              "      display: none;\n",
              "      fill: #1967D2;\n",
              "      height: 32px;\n",
              "      padding: 0 0 0 0;\n",
              "      width: 32px;\n",
              "    }\n",
              "\n",
              "    .colab-df-convert:hover {\n",
              "      background-color: #E2EBFA;\n",
              "      box-shadow: 0px 1px 2px rgba(60, 64, 67, 0.3), 0px 1px 3px 1px rgba(60, 64, 67, 0.15);\n",
              "      fill: #174EA6;\n",
              "    }\n",
              "\n",
              "    [theme=dark] .colab-df-convert {\n",
              "      background-color: #3B4455;\n",
              "      fill: #D2E3FC;\n",
              "    }\n",
              "\n",
              "    [theme=dark] .colab-df-convert:hover {\n",
              "      background-color: #434B5C;\n",
              "      box-shadow: 0px 1px 3px 1px rgba(0, 0, 0, 0.15);\n",
              "      filter: drop-shadow(0px 1px 2px rgba(0, 0, 0, 0.3));\n",
              "      fill: #FFFFFF;\n",
              "    }\n",
              "  </style>\n",
              "\n",
              "      <script>\n",
              "        const buttonEl =\n",
              "          document.querySelector('#df-b8c5697c-8573-4bc9-941a-384e84e7c356 button.colab-df-convert');\n",
              "        buttonEl.style.display =\n",
              "          google.colab.kernel.accessAllowed ? 'block' : 'none';\n",
              "\n",
              "        async function convertToInteractive(key) {\n",
              "          const element = document.querySelector('#df-b8c5697c-8573-4bc9-941a-384e84e7c356');\n",
              "          const dataTable =\n",
              "            await google.colab.kernel.invokeFunction('convertToInteractive',\n",
              "                                                     [key], {});\n",
              "          if (!dataTable) return;\n",
              "\n",
              "          const docLinkHtml = 'Like what you see? Visit the ' +\n",
              "            '<a target=\"_blank\" href=https://colab.research.google.com/notebooks/data_table.ipynb>data table notebook</a>'\n",
              "            + ' to learn more about interactive tables.';\n",
              "          element.innerHTML = '';\n",
              "          dataTable['output_type'] = 'display_data';\n",
              "          await google.colab.output.renderOutput(dataTable, element);\n",
              "          const docLink = document.createElement('div');\n",
              "          docLink.innerHTML = docLinkHtml;\n",
              "          element.appendChild(docLink);\n",
              "        }\n",
              "      </script>\n",
              "    </div>\n",
              "  </div>\n",
              "  "
            ]
          },
          "metadata": {},
          "execution_count": 86
        }
      ]
    },
    {
      "cell_type": "code",
      "source": [
        "pr = pd.read_csv('data/sample_submission.csv')\n",
        "pr.head()"
      ],
      "metadata": {
        "colab": {
          "base_uri": "https://localhost:8080/",
          "height": 206
        },
        "id": "WpOoXrBE0Lei",
        "outputId": "dd5e6848-bd32-44be-ba39-b4409cf57d59"
      },
      "execution_count": 34,
      "outputs": [
        {
          "output_type": "execute_result",
          "data": {
            "text/plain": [
              "     Id     Price\n",
              "0  4567  200000.0\n",
              "1  5925  200000.0\n",
              "2   960  200000.0\n",
              "3  3848  200000.0\n",
              "4   746  200000.0"
            ],
            "text/html": [
              "\n",
              "  <div id=\"df-ed1b284e-3ba0-4cbb-bab3-68a2205e4ee4\">\n",
              "    <div class=\"colab-df-container\">\n",
              "      <div>\n",
              "<style scoped>\n",
              "    .dataframe tbody tr th:only-of-type {\n",
              "        vertical-align: middle;\n",
              "    }\n",
              "\n",
              "    .dataframe tbody tr th {\n",
              "        vertical-align: top;\n",
              "    }\n",
              "\n",
              "    .dataframe thead th {\n",
              "        text-align: right;\n",
              "    }\n",
              "</style>\n",
              "<table border=\"1\" class=\"dataframe\">\n",
              "  <thead>\n",
              "    <tr style=\"text-align: right;\">\n",
              "      <th></th>\n",
              "      <th>Id</th>\n",
              "      <th>Price</th>\n",
              "    </tr>\n",
              "  </thead>\n",
              "  <tbody>\n",
              "    <tr>\n",
              "      <th>0</th>\n",
              "      <td>4567</td>\n",
              "      <td>200000.0</td>\n",
              "    </tr>\n",
              "    <tr>\n",
              "      <th>1</th>\n",
              "      <td>5925</td>\n",
              "      <td>200000.0</td>\n",
              "    </tr>\n",
              "    <tr>\n",
              "      <th>2</th>\n",
              "      <td>960</td>\n",
              "      <td>200000.0</td>\n",
              "    </tr>\n",
              "    <tr>\n",
              "      <th>3</th>\n",
              "      <td>3848</td>\n",
              "      <td>200000.0</td>\n",
              "    </tr>\n",
              "    <tr>\n",
              "      <th>4</th>\n",
              "      <td>746</td>\n",
              "      <td>200000.0</td>\n",
              "    </tr>\n",
              "  </tbody>\n",
              "</table>\n",
              "</div>\n",
              "      <button class=\"colab-df-convert\" onclick=\"convertToInteractive('df-ed1b284e-3ba0-4cbb-bab3-68a2205e4ee4')\"\n",
              "              title=\"Convert this dataframe to an interactive table.\"\n",
              "              style=\"display:none;\">\n",
              "        \n",
              "  <svg xmlns=\"http://www.w3.org/2000/svg\" height=\"24px\"viewBox=\"0 0 24 24\"\n",
              "       width=\"24px\">\n",
              "    <path d=\"M0 0h24v24H0V0z\" fill=\"none\"/>\n",
              "    <path d=\"M18.56 5.44l.94 2.06.94-2.06 2.06-.94-2.06-.94-.94-2.06-.94 2.06-2.06.94zm-11 1L8.5 8.5l.94-2.06 2.06-.94-2.06-.94L8.5 2.5l-.94 2.06-2.06.94zm10 10l.94 2.06.94-2.06 2.06-.94-2.06-.94-.94-2.06-.94 2.06-2.06.94z\"/><path d=\"M17.41 7.96l-1.37-1.37c-.4-.4-.92-.59-1.43-.59-.52 0-1.04.2-1.43.59L10.3 9.45l-7.72 7.72c-.78.78-.78 2.05 0 2.83L4 21.41c.39.39.9.59 1.41.59.51 0 1.02-.2 1.41-.59l7.78-7.78 2.81-2.81c.8-.78.8-2.07 0-2.86zM5.41 20L4 18.59l7.72-7.72 1.47 1.35L5.41 20z\"/>\n",
              "  </svg>\n",
              "      </button>\n",
              "      \n",
              "  <style>\n",
              "    .colab-df-container {\n",
              "      display:flex;\n",
              "      flex-wrap:wrap;\n",
              "      gap: 12px;\n",
              "    }\n",
              "\n",
              "    .colab-df-convert {\n",
              "      background-color: #E8F0FE;\n",
              "      border: none;\n",
              "      border-radius: 50%;\n",
              "      cursor: pointer;\n",
              "      display: none;\n",
              "      fill: #1967D2;\n",
              "      height: 32px;\n",
              "      padding: 0 0 0 0;\n",
              "      width: 32px;\n",
              "    }\n",
              "\n",
              "    .colab-df-convert:hover {\n",
              "      background-color: #E2EBFA;\n",
              "      box-shadow: 0px 1px 2px rgba(60, 64, 67, 0.3), 0px 1px 3px 1px rgba(60, 64, 67, 0.15);\n",
              "      fill: #174EA6;\n",
              "    }\n",
              "\n",
              "    [theme=dark] .colab-df-convert {\n",
              "      background-color: #3B4455;\n",
              "      fill: #D2E3FC;\n",
              "    }\n",
              "\n",
              "    [theme=dark] .colab-df-convert:hover {\n",
              "      background-color: #434B5C;\n",
              "      box-shadow: 0px 1px 3px 1px rgba(0, 0, 0, 0.15);\n",
              "      filter: drop-shadow(0px 1px 2px rgba(0, 0, 0, 0.3));\n",
              "      fill: #FFFFFF;\n",
              "    }\n",
              "  </style>\n",
              "\n",
              "      <script>\n",
              "        const buttonEl =\n",
              "          document.querySelector('#df-ed1b284e-3ba0-4cbb-bab3-68a2205e4ee4 button.colab-df-convert');\n",
              "        buttonEl.style.display =\n",
              "          google.colab.kernel.accessAllowed ? 'block' : 'none';\n",
              "\n",
              "        async function convertToInteractive(key) {\n",
              "          const element = document.querySelector('#df-ed1b284e-3ba0-4cbb-bab3-68a2205e4ee4');\n",
              "          const dataTable =\n",
              "            await google.colab.kernel.invokeFunction('convertToInteractive',\n",
              "                                                     [key], {});\n",
              "          if (!dataTable) return;\n",
              "\n",
              "          const docLinkHtml = 'Like what you see? Visit the ' +\n",
              "            '<a target=\"_blank\" href=https://colab.research.google.com/notebooks/data_table.ipynb>data table notebook</a>'\n",
              "            + ' to learn more about interactive tables.';\n",
              "          element.innerHTML = '';\n",
              "          dataTable['output_type'] = 'display_data';\n",
              "          await google.colab.output.renderOutput(dataTable, element);\n",
              "          const docLink = document.createElement('div');\n",
              "          docLink.innerHTML = docLinkHtml;\n",
              "          element.appendChild(docLink);\n",
              "        }\n",
              "      </script>\n",
              "    </div>\n",
              "  </div>\n",
              "  "
            ]
          },
          "metadata": {},
          "execution_count": 34
        }
      ]
    },
    {
      "cell_type": "code",
      "source": [
        "pr['Price'] = pred\n",
        "pr.head()"
      ],
      "metadata": {
        "colab": {
          "base_uri": "https://localhost:8080/",
          "height": 206
        },
        "id": "SlpRtB522DMQ",
        "outputId": "6d9826df-3aa5-43bb-efd7-d6f1be0481bf"
      },
      "execution_count": 87,
      "outputs": [
        {
          "output_type": "execute_result",
          "data": {
            "text/plain": [
              "     Id          Price\n",
              "0  4567  160311.345938\n",
              "1  5925  112769.596250\n",
              "2   960  142504.732813\n",
              "3  3848  149152.063594\n",
              "4   746  170807.278594"
            ],
            "text/html": [
              "\n",
              "  <div id=\"df-1858c75e-4351-4d22-b14d-29fe3a3b10f5\">\n",
              "    <div class=\"colab-df-container\">\n",
              "      <div>\n",
              "<style scoped>\n",
              "    .dataframe tbody tr th:only-of-type {\n",
              "        vertical-align: middle;\n",
              "    }\n",
              "\n",
              "    .dataframe tbody tr th {\n",
              "        vertical-align: top;\n",
              "    }\n",
              "\n",
              "    .dataframe thead th {\n",
              "        text-align: right;\n",
              "    }\n",
              "</style>\n",
              "<table border=\"1\" class=\"dataframe\">\n",
              "  <thead>\n",
              "    <tr style=\"text-align: right;\">\n",
              "      <th></th>\n",
              "      <th>Id</th>\n",
              "      <th>Price</th>\n",
              "    </tr>\n",
              "  </thead>\n",
              "  <tbody>\n",
              "    <tr>\n",
              "      <th>0</th>\n",
              "      <td>4567</td>\n",
              "      <td>160311.345938</td>\n",
              "    </tr>\n",
              "    <tr>\n",
              "      <th>1</th>\n",
              "      <td>5925</td>\n",
              "      <td>112769.596250</td>\n",
              "    </tr>\n",
              "    <tr>\n",
              "      <th>2</th>\n",
              "      <td>960</td>\n",
              "      <td>142504.732813</td>\n",
              "    </tr>\n",
              "    <tr>\n",
              "      <th>3</th>\n",
              "      <td>3848</td>\n",
              "      <td>149152.063594</td>\n",
              "    </tr>\n",
              "    <tr>\n",
              "      <th>4</th>\n",
              "      <td>746</td>\n",
              "      <td>170807.278594</td>\n",
              "    </tr>\n",
              "  </tbody>\n",
              "</table>\n",
              "</div>\n",
              "      <button class=\"colab-df-convert\" onclick=\"convertToInteractive('df-1858c75e-4351-4d22-b14d-29fe3a3b10f5')\"\n",
              "              title=\"Convert this dataframe to an interactive table.\"\n",
              "              style=\"display:none;\">\n",
              "        \n",
              "  <svg xmlns=\"http://www.w3.org/2000/svg\" height=\"24px\"viewBox=\"0 0 24 24\"\n",
              "       width=\"24px\">\n",
              "    <path d=\"M0 0h24v24H0V0z\" fill=\"none\"/>\n",
              "    <path d=\"M18.56 5.44l.94 2.06.94-2.06 2.06-.94-2.06-.94-.94-2.06-.94 2.06-2.06.94zm-11 1L8.5 8.5l.94-2.06 2.06-.94-2.06-.94L8.5 2.5l-.94 2.06-2.06.94zm10 10l.94 2.06.94-2.06 2.06-.94-2.06-.94-.94-2.06-.94 2.06-2.06.94z\"/><path d=\"M17.41 7.96l-1.37-1.37c-.4-.4-.92-.59-1.43-.59-.52 0-1.04.2-1.43.59L10.3 9.45l-7.72 7.72c-.78.78-.78 2.05 0 2.83L4 21.41c.39.39.9.59 1.41.59.51 0 1.02-.2 1.41-.59l7.78-7.78 2.81-2.81c.8-.78.8-2.07 0-2.86zM5.41 20L4 18.59l7.72-7.72 1.47 1.35L5.41 20z\"/>\n",
              "  </svg>\n",
              "      </button>\n",
              "      \n",
              "  <style>\n",
              "    .colab-df-container {\n",
              "      display:flex;\n",
              "      flex-wrap:wrap;\n",
              "      gap: 12px;\n",
              "    }\n",
              "\n",
              "    .colab-df-convert {\n",
              "      background-color: #E8F0FE;\n",
              "      border: none;\n",
              "      border-radius: 50%;\n",
              "      cursor: pointer;\n",
              "      display: none;\n",
              "      fill: #1967D2;\n",
              "      height: 32px;\n",
              "      padding: 0 0 0 0;\n",
              "      width: 32px;\n",
              "    }\n",
              "\n",
              "    .colab-df-convert:hover {\n",
              "      background-color: #E2EBFA;\n",
              "      box-shadow: 0px 1px 2px rgba(60, 64, 67, 0.3), 0px 1px 3px 1px rgba(60, 64, 67, 0.15);\n",
              "      fill: #174EA6;\n",
              "    }\n",
              "\n",
              "    [theme=dark] .colab-df-convert {\n",
              "      background-color: #3B4455;\n",
              "      fill: #D2E3FC;\n",
              "    }\n",
              "\n",
              "    [theme=dark] .colab-df-convert:hover {\n",
              "      background-color: #434B5C;\n",
              "      box-shadow: 0px 1px 3px 1px rgba(0, 0, 0, 0.15);\n",
              "      filter: drop-shadow(0px 1px 2px rgba(0, 0, 0, 0.3));\n",
              "      fill: #FFFFFF;\n",
              "    }\n",
              "  </style>\n",
              "\n",
              "      <script>\n",
              "        const buttonEl =\n",
              "          document.querySelector('#df-1858c75e-4351-4d22-b14d-29fe3a3b10f5 button.colab-df-convert');\n",
              "        buttonEl.style.display =\n",
              "          google.colab.kernel.accessAllowed ? 'block' : 'none';\n",
              "\n",
              "        async function convertToInteractive(key) {\n",
              "          const element = document.querySelector('#df-1858c75e-4351-4d22-b14d-29fe3a3b10f5');\n",
              "          const dataTable =\n",
              "            await google.colab.kernel.invokeFunction('convertToInteractive',\n",
              "                                                     [key], {});\n",
              "          if (!dataTable) return;\n",
              "\n",
              "          const docLinkHtml = 'Like what you see? Visit the ' +\n",
              "            '<a target=\"_blank\" href=https://colab.research.google.com/notebooks/data_table.ipynb>data table notebook</a>'\n",
              "            + ' to learn more about interactive tables.';\n",
              "          element.innerHTML = '';\n",
              "          dataTable['output_type'] = 'display_data';\n",
              "          await google.colab.output.renderOutput(dataTable, element);\n",
              "          const docLink = document.createElement('div');\n",
              "          docLink.innerHTML = docLinkHtml;\n",
              "          element.appendChild(docLink);\n",
              "        }\n",
              "      </script>\n",
              "    </div>\n",
              "  </div>\n",
              "  "
            ]
          },
          "metadata": {},
          "execution_count": 87
        }
      ]
    },
    {
      "cell_type": "code",
      "source": [
        "pr.shape"
      ],
      "metadata": {
        "colab": {
          "base_uri": "https://localhost:8080/"
        },
        "id": "0ZftPnxk2jgT",
        "outputId": "7958b857-ccb0-4ee6-de87-e7ee0bdb80f9"
      },
      "execution_count": 36,
      "outputs": [
        {
          "output_type": "execute_result",
          "data": {
            "text/plain": [
              "(5000, 2)"
            ]
          },
          "metadata": {},
          "execution_count": 36
        }
      ]
    },
    {
      "cell_type": "code",
      "source": [
        "pr.to_csv('VKrasnov_predict.csv', index=False)"
      ],
      "metadata": {
        "id": "ZVQeSHrY2qi3"
      },
      "execution_count": 88,
      "outputs": []
    }
  ]
}